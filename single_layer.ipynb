{
 "cells": [
  {
   "cell_type": "code",
   "execution_count": 1,
   "metadata": {},
   "outputs": [],
   "source": [
    "import numpy as np\n",
    "import matplotlib.pyplot as plt"
   ]
  },
  {
   "cell_type": "code",
   "execution_count": 2,
   "metadata": {},
   "outputs": [],
   "source": [
    "NUM_FEATURES = 2\n",
    "NUM_ITTER = 100\n",
    "learning_rate = 0.1"
   ]
  },
  {
   "cell_type": "code",
   "execution_count": 3,
   "metadata": {},
   "outputs": [],
   "source": [
    "x = np.array([[0,0],[0,1],[1,0],[1,1]], np.float32)\n",
    "y = np.array([0, 0, 0, 1], np.float32)"
   ]
  },
  {
   "cell_type": "code",
   "execution_count": 4,
   "metadata": {},
   "outputs": [],
   "source": [
    "# initial wieght & bias\n",
    "W = np.zeros(NUM_FEATURES, np.float32) \n",
    "b = np.zeros(1, np.float32)"
   ]
  },
  {
   "cell_type": "code",
   "execution_count": 6,
   "metadata": {},
   "outputs": [
    {
     "name": "stdout",
     "output_type": "stream",
     "text": [
      "iterasi ke-0 [0. 0. 0. 1.] [0.1 0.1] [0.1]\n",
      "iterasi ke-1 [-1. -1. -1.  0.] [0. 0.] [-0.20000002]\n",
      "iterasi ke-2 [0. 0. 0. 1.] [0.1 0.1] [-0.10000002]\n"
     ]
    }
   ],
   "source": [
    "for i in range(NUM_ITTER):\n",
    "    y_pred = np.dot(x,W)+b\n",
    "    \n",
    "    #activation\n",
    "    y_pred[y_pred > 0] = 1\n",
    "    y_pred[y_pred <=0] = 0\n",
    "    \n",
    "    #calculate error\n",
    "    err = y - y_pred\n",
    "    \n",
    "    #stop if error=0\n",
    "    if np.sum(err) ==0:\n",
    "        break\n",
    "    \n",
    "    delta_W = learning_rate * np.dot(np.transpose(x), err)\n",
    "    delta_b = learning_rate * np.sum(err)\n",
    "    W = W + delta_W\n",
    "    b = b + delta_b\n",
    "    \n",
    "    print (\"iterasi ke-\" + str(i), err, W, b)"
   ]
  },
  {
   "cell_type": "code",
   "execution_count": 7,
   "metadata": {},
   "outputs": [
    {
     "name": "stdout",
     "output_type": "stream",
     "text": [
      "0 AND 0 = 0\n",
      "0 AND 1 = 0\n",
      "1 AND 0 = 0\n",
      "1 AND 1 = 1\n"
     ]
    }
   ],
   "source": [
    "#test\n",
    "x_test = [[0,0],[0,1],[1,0],[1,1]]\n",
    "for x_test_item in x_test :\n",
    "    y_test = np.dot(x_test_item, W) + b\n",
    "    y_test = 1 if y_test > 0 else 0\n",
    "    print(str(x_test_item[0]) + ' AND ' + str(x_test_item[1]) + ' = ' + str(y_test))"
   ]
  },
  {
   "cell_type": "code",
   "execution_count": 8,
   "metadata": {},
   "outputs": [
    {
     "name": "stdout",
     "output_type": "stream",
     "text": [
      "W:[0.1 0.1]\n",
      "b:[-0.10000002]\n",
      "plot_y:[ 1.2000002  -0.19999988]\n"
     ]
    },
    {
     "data": {
      "image/png": "[encoded data removed]",
      "text/plain": [
       "<Figure size 432x288 with 1 Axes>"
      ]
     },
     "metadata": {
      "needs_background": "light"
     },
     "output_type": "display_data"
    }
   ],
   "source": [
    "#plot lineary separable class\n",
    "plot_x = np.array([np.min(x[:, 0] - 0.2), np.max(x[:, 1]+0.2)])\n",
    "plot_y = - 1 / W[1] * (W[0] * plot_x + b) \n",
    "\n",
    "print('W:' + str(W))\n",
    "print('b:' + str(b))\n",
    "print('plot_y:' + str(plot_y))\n",
    "\n",
    "plt.scatter(x[:, 0], x[:, 1], c=y, s=100, cmap='viridis')\n",
    "plt.plot(plot_x, plot_y, color='k', linewidth=2)\n",
    "plt.xlim([-0.2, 1.2]); plt.ylim([-0.2, 1.25]);\n",
    "plt.show()"
   ]
  },
  {
   "cell_type": "code",
   "execution_count": null,
   "metadata": {},
   "outputs": [],
   "source": [
    " "
   ]
  }
 ],
 "metadata": {
  "kernelspec": {
   "display_name": "Python 3",
   "language": "python",
   "name": "python3"
  },
  "language_info": {
   "codemirror_mode": {
    "name": "ipython",
    "version": 3
   },
   "file_extension": ".py",
   "mimetype": "text/x-python",
   "name": "python",
   "nbconvert_exporter": "python",
   "pygments_lexer": "ipython3",
   "version": "3.8.5"
  }
 },
 "nbformat": 4,
 "nbformat_minor": 4
}
